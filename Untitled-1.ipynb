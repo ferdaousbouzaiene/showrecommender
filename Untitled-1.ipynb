{
 "cells": [
  {
   "cell_type": "code",
   "execution_count": null,
   "id": "a6423e30",
   "metadata": {},
   "outputs": [],
   "source": []
  },
  {
   "cell_type": "code",
   "execution_count": 2,
   "id": "5b2931fb",
   "metadata": {},
   "outputs": [
    {
     "name": "stderr",
     "output_type": "stream",
     "text": [
      "/var/folders/_v/kqfqrzh174l0mmh_2bj_9gfc0000gn/T/ipykernel_58432/2106339565.py:4: DtypeWarning: Columns (2) have mixed types. Specify dtype option on import or set low_memory=False.\n",
      "  movies = pd.read_csv('data/movies.csv', sep='|', header=None, encoding='latin1',\n"
     ]
    }
   ],
   "source": [
    "import pandas as pd\n",
    "\n",
    "# For MovieLens 100K\n",
    "movies = pd.read_csv('data/movies.csv', sep='|', header=None, encoding='latin1',\n",
    "                     names=['id', 'title', 'release_date', 'video_release_date', \n",
    "                            'imdb_url'] + [f'genre_{i}' for i in range(19)])\n",
    "\n",
    "ratings = pd.read_csv('data/ratings.csv', sep='\\t', header=None,\n",
    "                      names=['userId', 'movieId', 'rating', 'timestamp'])\n",
    "\n",
    "# Add required columns for the system\n",
    "movies['overview'] = 'No overview available'\n",
    "movies['genres'] = movies[[f'genre_{i}' for i in range(19)]].apply(\n",
    "    lambda x: ' '.join([genre for i, genre in enumerate(['Action', 'Adventure', 'Animation', 'Children', 'Comedy', 'Crime', 'Documentary', 'Drama', 'Fantasy', 'Film-Noir', 'Horror', 'Musical', 'Mystery', 'Romance', 'Sci-Fi', 'Thriller', 'War', 'Western']) if x[f'genre_{i}'] == 1]), axis=1\n",
    ")\n",
    "movies['keywords'] = ''\n",
    "movies['cast'] = ''\n",
    "movies['crew'] = ''\n",
    "movies['vote_average'] = 0\n",
    "movies['vote_count'] = 0\n",
    "\n",
    "# Save processed files\n",
    "movies.to_csv('data/movies.csv', index=False)\n",
    "ratings.to_csv('data/ratings.csv', index=False)\n"
   ]
  },
  {
   "cell_type": "code",
   "execution_count": null,
   "id": "90ed2866",
   "metadata": {},
   "outputs": [],
   "source": []
  }
 ],
 "metadata": {
  "kernelspec": {
   "display_name": "myenv",
   "language": "python",
   "name": "python3"
  },
  "language_info": {
   "codemirror_mode": {
    "name": "ipython",
    "version": 3
   },
   "file_extension": ".py",
   "mimetype": "text/x-python",
   "name": "python",
   "nbconvert_exporter": "python",
   "pygments_lexer": "ipython3",
   "version": "3.12.9"
  }
 },
 "nbformat": 4,
 "nbformat_minor": 5
}
